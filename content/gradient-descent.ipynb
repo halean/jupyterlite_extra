{
 "cells": [
  {
   "cell_type": "markdown",
   "id": "46537e4c-f6ef-4076-b7d1-d1fec64b29f4",
   "metadata": {},
   "source": [
    "Gradient descent basis:\n",
    "\n",
    "$f(x)-f(a) = \\nabla f(a)*(x-a)$\n",
    "\n",
    "when $x$ is around $a$ . (First term of tailor series)\n",
    "\n",
    "Among $||x-a|| = R$, $x-a=\\mu\\nabla f(a) (\\mu = R/||\\nabla f(x)||)$ will make $f(x)-f(a)$ increase the fastest (1). \n",
    "\n",
    "$arg \\underset{x-a}{max}(f(x)-f(a)) = \\frac{R}{||\\nabla f(a)||}\\nabla f(a)   = \\mu \\nabla f(a)$ \n",
    "subject to $||x-a||=R$\n",
    "\n",
    "The gradient vector $\\nabla f(x)$ points in the direction of the steepest ascent (2).\n",
    "\n",
    "The directional derivative vector of $f(x)$ with regard to a unit vector u is:\n",
    "\n",
    "$D_uf(x) = \\underset{h->0}{limit}\\frac{f(x+h*u)-f(x)}{h} = \\nabla f(x) *u$\n",
    "\n",
    "if we use the series $a_1 = a_0+\\mu\\nabla f(a_0), a_2=a_1+\\mu\\nabla(f(a_1))...$ f(a) will increase fas"
   ]
  },
  {
   "cell_type": "code",
   "execution_count": null,
   "id": "b0a39a2b-4a1e-4c6b-81c5-3bab5d3a5fa2",
   "metadata": {},
   "outputs": [],
   "source": []
  },
  {
   "cell_type": "code",
   "execution_count": null,
   "id": "0dc8bf0a-a19e-4b90-a9f4-593baa27440b",
   "metadata": {},
   "outputs": [],
   "source": []
  }
 ],
 "metadata": {
  "kernelspec": {
   "display_name": "llamaindex_green",
   "language": "python",
   "name": "llamaindex_green"
  },
  "language_info": {
   "codemirror_mode": {
    "name": "ipython",
    "version": 3
   },
   "file_extension": ".py",
   "mimetype": "text/x-python",
   "name": "python",
   "nbconvert_exporter": "python",
   "pygments_lexer": "ipython3",
   "version": "3.10.12"
  }
 },
 "nbformat": 4,
 "nbformat_minor": 5
}
